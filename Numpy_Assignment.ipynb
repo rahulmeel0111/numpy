{
  "nbformat": 4,
  "nbformat_minor": 0,
  "metadata": {
    "colab": {
      "provenance": []
    },
    "kernelspec": {
      "name": "python3",
      "display_name": "Python 3"
    },
    "language_info": {
      "name": "python"
    }
  },
  "cells": [
    {
      "cell_type": "code",
      "execution_count": null,
      "metadata": {
        "id": "a4amf97eldYT"
      },
      "outputs": [],
      "source": [
        "#Theoretical Questions:\n",
        "#1.  Explain the purpose and advantages of NumPy in scientific computing and data analysis. How does it enhance Python's capabilities for numerical operations?\n",
        "#= The purpose of Numpy is to increase the performance of codes(like Arithmatic operations). because c is the fastest computation after c++ and and Numpy array build from c.\n",
        "# and numpy is homogenous that's why the performance or computation is increased."
      ]
    },
    {
      "cell_type": "code",
      "source": [
        "#2. Compare and contrast np.mean() and np.average() functions in NumPy. When would you use one over the other?\n",
        "#=Average can be defined as the sum of all the numbers divided by the total number of values. A mean is defined as the mathematical average of the set of two or more data values.\n",
        "# Average is usually defined as mean or arithmetic mean. Mean is simply a method of describing the average of the sample."
      ],
      "metadata": {
        "id": "GvoWkuG_lv27"
      },
      "execution_count": null,
      "outputs": []
    },
    {
      "cell_type": "code",
      "source": [
        "#3.  Describe the methods for reversing a NumPy array along different axes. Provide examples for 1D and 2D arrays.\n",
        "# = Reversing a NumPy array along different axes can be done using array slicing or the flip function.The methods allow for reversing the order of elements along axis\n"
      ],
      "metadata": {
        "id": "8467cEgCnlk7"
      },
      "execution_count": null,
      "outputs": []
    },
    {
      "cell_type": "code",
      "source": [
        "# 1D array ex-\n",
        "import numpy as np\n",
        "arr=np.array([1,2,3])\n",
        "arr"
      ],
      "metadata": {
        "id": "WUrYTtu-u0uO"
      },
      "execution_count": null,
      "outputs": []
    },
    {
      "cell_type": "code",
      "source": [
        "arr[::-1]"
      ],
      "metadata": {
        "colab": {
          "base_uri": "https://localhost:8080/"
        },
        "id": "PUTvZinHu8Y8",
        "outputId": "9de75936-d832-41c3-9f2b-c04436c75433"
      },
      "execution_count": null,
      "outputs": [
        {
          "output_type": "execute_result",
          "data": {
            "text/plain": [
              "array([3, 2, 1])"
            ]
          },
          "metadata": {},
          "execution_count": 2
        }
      ]
    },
    {
      "cell_type": "code",
      "source": [
        "#2d array\n",
        "arr1=np.array([[1,2,3],[4,5,6],[7,8,9]])\n",
        "arr1"
      ],
      "metadata": {
        "colab": {
          "base_uri": "https://localhost:8080/"
        },
        "id": "P7XXG8OvvBT0",
        "outputId": "ec166429-cec5-4453-9568-fa6850462364"
      },
      "execution_count": null,
      "outputs": [
        {
          "output_type": "execute_result",
          "data": {
            "text/plain": [
              "array([[1, 2, 3],\n",
              "       [4, 5, 6],\n",
              "       [7, 8, 9]])"
            ]
          },
          "metadata": {},
          "execution_count": 12
        }
      ]
    },
    {
      "cell_type": "code",
      "source": [
        "arr1[::-1]"
      ],
      "metadata": {
        "colab": {
          "base_uri": "https://localhost:8080/"
        },
        "id": "Qiq-mOhAvLnu",
        "outputId": "1e8d0ed9-c96e-412b-f486-5c4b54ffc952"
      },
      "execution_count": null,
      "outputs": [
        {
          "output_type": "execute_result",
          "data": {
            "text/plain": [
              "array([[7, 8, 9],\n",
              "       [4, 5, 6],\n",
              "       [1, 2, 3]])"
            ]
          },
          "metadata": {},
          "execution_count": 13
        }
      ]
    },
    {
      "cell_type": "code",
      "source": [
        "np.flip(arr1,axis=0)"
      ],
      "metadata": {
        "colab": {
          "base_uri": "https://localhost:8080/"
        },
        "id": "diZyIBP2vwoi",
        "outputId": "25c84032-69bb-49f6-bc95-861e87b812bc"
      },
      "execution_count": null,
      "outputs": [
        {
          "output_type": "execute_result",
          "data": {
            "text/plain": [
              "array([[7, 8, 9],\n",
              "       [4, 5, 6],\n",
              "       [1, 2, 3]])"
            ]
          },
          "metadata": {},
          "execution_count": 21
        }
      ]
    },
    {
      "cell_type": "code",
      "source": [
        "np.flip(arr1,axis=1)"
      ],
      "metadata": {
        "colab": {
          "base_uri": "https://localhost:8080/"
        },
        "id": "kGZYavA1wlqf",
        "outputId": "51c3dadc-fa19-4545-afb0-b53fc478979d"
      },
      "execution_count": null,
      "outputs": [
        {
          "output_type": "execute_result",
          "data": {
            "text/plain": [
              "array([[3, 2, 1],\n",
              "       [6, 5, 4],\n",
              "       [9, 8, 7]])"
            ]
          },
          "metadata": {},
          "execution_count": 22
        }
      ]
    },
    {
      "cell_type": "code",
      "source": [
        "#4. How can you determine the data type of elements in a NumPy array? Discuss the importance of data types in memory management and performance.\n",
        "#= In NumPy, we can determine the data type (dtype) of the elements in an array using the dtype attribute of the array.\n",
        " #This attribute provides information about the type of the elements in the array, such as integers, floats\n",
        " #This data type object (dtype) provides information about the layout of the array."
      ],
      "metadata": {
        "id": "i6NhtFjJxQpw"
      },
      "execution_count": null,
      "outputs": []
    },
    {
      "cell_type": "code",
      "source": [
        "#5. Define ndarrays in NumPy and explain their key features. How do they differ from standard Python lists?\n",
        "#In NumPy, an ndarray (short for N-dimensional array) is the central data structure used to store homogeneous collections of elements (i.e., all elements must be of the same data type).\n",
        "#Key Features-Homogeneous Data Types,Fixed Size,Element-wise Operations,Shape and Reshaping ,Broadcasting\n",
        "\n"
      ],
      "metadata": {
        "id": "m_IfVsW4xhGv"
      },
      "execution_count": null,
      "outputs": []
    },
    {
      "cell_type": "code",
      "source": [
        "#6.  Analyze the performance benefits of NumPy arrays over Python lists for large-scale numerical operations.\n",
        "# = When dealing with large-scale numerical operations, the performance differences between NumPy arrays and Python lists become significant. NumPy is specifically designed for efficient numerical computing\n",
        "#python list store hetrogenous data that's why the performance is slow in large-scale data because we don't know that where is our data stored\n",
        " # and numpy store homogenous data  and due to same data type the performance is increase"
      ],
      "metadata": {
        "id": "pbmDmEEY0cK-"
      },
      "execution_count": null,
      "outputs": []
    },
    {
      "cell_type": "code",
      "source": [
        "#7.  Compare vstack() and hstack() functions in NumPy. Provide examples demonstrating their usage and output.\n",
        "#In NumPy, vstack() and hstack() are functions used for stacking arrays along different axes.\n",
        "# They allow you to combine multiple arrays into a single array either vertically or horizontally.\n",
        "arr1 = np.array([[1, 2], [3, 4]])\n",
        "arr2 = np.array([[5, 6], [7, 8]])"
      ],
      "metadata": {
        "id": "dehmaAPH14Vl"
      },
      "execution_count": null,
      "outputs": []
    },
    {
      "cell_type": "code",
      "source": [
        "np.vstack((arr1, arr2))"
      ],
      "metadata": {
        "colab": {
          "base_uri": "https://localhost:8080/"
        },
        "id": "Ptl_q6ZI3umF",
        "outputId": "fd02fc60-5906-461f-e971-a60f947dfe01"
      },
      "execution_count": null,
      "outputs": [
        {
          "output_type": "execute_result",
          "data": {
            "text/plain": [
              "array([[1, 2],\n",
              "       [3, 4],\n",
              "       [5, 6],\n",
              "       [7, 8]])"
            ]
          },
          "metadata": {},
          "execution_count": 30
        }
      ]
    },
    {
      "cell_type": "code",
      "source": [
        "np.hstack((arr1, arr2))"
      ],
      "metadata": {
        "colab": {
          "base_uri": "https://localhost:8080/"
        },
        "id": "1b_lFe9r3yNl",
        "outputId": "504fd974-2a37-4f53-c094-33ea7a040ce7"
      },
      "execution_count": null,
      "outputs": [
        {
          "output_type": "execute_result",
          "data": {
            "text/plain": [
              "array([[1, 2, 5, 6],\n",
              "       [3, 4, 7, 8]])"
            ]
          },
          "metadata": {},
          "execution_count": 31
        }
      ]
    },
    {
      "cell_type": "code",
      "source": [
        "#8. Explain the differences between fliplr() and flipud() methods in NumPy, including their effects on various array dimensions.\n",
        "#The fliplr() function flips the array left to right, reversing the order of elements along axis 1 (the horizontal axis, corresponding to columns)\n",
        "#The flipud() function flips the array up to down, reversing the order of elements along axis 0 (the vertical axis, corresponding to rows)."
      ],
      "metadata": {
        "id": "VXYJOVbA33L_"
      },
      "execution_count": null,
      "outputs": []
    },
    {
      "cell_type": "code",
      "source": [
        "#9. . Discuss the functionality of the array_split() method in NumPy. How does it handle uneven splits?\n",
        "#e array_split() function in NumPy is used to split an array into multiple sub-arrays along a specified axis.\n",
        "# This function is particularly useful when you want to divide a large array into smaller chunks, which can be processed separately."
      ],
      "metadata": {
        "id": "5MDZi98b41YG"
      },
      "execution_count": null,
      "outputs": []
    },
    {
      "cell_type": "code",
      "source": [
        "#10.  Explain the concepts of vectorization and broadcasting in NumPy. How do they contribute to efficient array operations?\n",
        "#Vectorization refers to the ability of NumPy to perform element-wise operations on entire arrays without the need for explicit loops.\n",
        "# Instead of iterating through elements in Python for each operation\n",
        "#Broadcasting is a set of rules that NumPy follows to perform operations on arrays of different shapes.\n",
        " #Instead of requiring arrays to have the same shape for element-wise operations,\n",
        " #NumPy will automatically \"broadcast\" smaller arrays across the larger array so that the operation can be performed."
      ],
      "metadata": {
        "id": "4CAWt-B25Yf7"
      },
      "execution_count": null,
      "outputs": []
    },
    {
      "cell_type": "code",
      "source": [
        "#Practical Questions:\n",
        "#1.  Create a 3x3 NumPy array with random integers between 1 and 100. Then, interchange its rows and columns.\n",
        "import numpy as np\n",
        "import random\n",
        "ar=np.random.randint(1,100,(3,3))\n",
        "ar"
      ],
      "metadata": {
        "id": "MzGU7DBD6B5r",
        "colab": {
          "base_uri": "https://localhost:8080/"
        },
        "outputId": "08723e22-f490-43b1-bc3a-5677f9dbd29d"
      },
      "execution_count": 1,
      "outputs": [
        {
          "output_type": "execute_result",
          "data": {
            "text/plain": [
              "array([[38, 53, 52],\n",
              "       [99, 14, 53],\n",
              "       [87, 47, 38]])"
            ]
          },
          "metadata": {},
          "execution_count": 1
        }
      ]
    },
    {
      "cell_type": "code",
      "source": [
        "ar[::-1]"
      ],
      "metadata": {
        "colab": {
          "base_uri": "https://localhost:8080/"
        },
        "id": "wuu3Q8vsqeY8",
        "outputId": "c9d5aed2-5f9e-4cbc-e9ff-7e5d54b2f9cd"
      },
      "execution_count": null,
      "outputs": [
        {
          "output_type": "execute_result",
          "data": {
            "text/plain": [
              "array([[54, 75, 81],\n",
              "       [48, 66, 62],\n",
              "       [38, 81, 91]])"
            ]
          },
          "metadata": {},
          "execution_count": 7
        }
      ]
    },
    {
      "cell_type": "code",
      "source": [
        "ar.T"
      ],
      "metadata": {
        "colab": {
          "base_uri": "https://localhost:8080/"
        },
        "id": "rvFnRCkmrzm2",
        "outputId": "e3d8efe9-3e98-4a97-8c15-7c17f650bdb5"
      },
      "execution_count": null,
      "outputs": [
        {
          "output_type": "execute_result",
          "data": {
            "text/plain": [
              "array([[38, 48, 54],\n",
              "       [81, 66, 75],\n",
              "       [91, 62, 81]])"
            ]
          },
          "metadata": {},
          "execution_count": 8
        }
      ]
    },
    {
      "cell_type": "code",
      "source": [
        "#2  Generate a 1D NumPy array with 10 elements. Reshape it into a 2x5 array, then into a 5x2 array.\n",
        "r=np.arange(1,11)\n",
        "r"
      ],
      "metadata": {
        "colab": {
          "base_uri": "https://localhost:8080/"
        },
        "id": "mIpRwdnPraEF",
        "outputId": "92b03c77-0bfd-476c-f3c1-b7e6b767d654"
      },
      "execution_count": null,
      "outputs": [
        {
          "output_type": "execute_result",
          "data": {
            "text/plain": [
              "array([ 1,  2,  3,  4,  5,  6,  7,  8,  9, 10])"
            ]
          },
          "metadata": {},
          "execution_count": 10
        }
      ]
    },
    {
      "cell_type": "code",
      "source": [
        "r.reshape(2,5)"
      ],
      "metadata": {
        "colab": {
          "base_uri": "https://localhost:8080/"
        },
        "id": "AweQRhhNsNPC",
        "outputId": "fe291884-8f4b-4e2e-de55-9eb5f30c3ca6"
      },
      "execution_count": null,
      "outputs": [
        {
          "output_type": "execute_result",
          "data": {
            "text/plain": [
              "array([[ 1,  2,  3,  4,  5],\n",
              "       [ 6,  7,  8,  9, 10]])"
            ]
          },
          "metadata": {},
          "execution_count": 11
        }
      ]
    },
    {
      "cell_type": "code",
      "source": [
        "r.reshape(5,2)"
      ],
      "metadata": {
        "colab": {
          "base_uri": "https://localhost:8080/"
        },
        "id": "X0q6UsAYsgJL",
        "outputId": "0b69691b-2261-42a6-c0a6-86feef7fbd76"
      },
      "execution_count": null,
      "outputs": [
        {
          "output_type": "execute_result",
          "data": {
            "text/plain": [
              "array([[ 1,  2],\n",
              "       [ 3,  4],\n",
              "       [ 5,  6],\n",
              "       [ 7,  8],\n",
              "       [ 9, 10]])"
            ]
          },
          "metadata": {},
          "execution_count": 12
        }
      ]
    },
    {
      "cell_type": "code",
      "source": [
        "#3.  Create a 4x4 NumPy array with random float values. Add a border of zeros around it, resulting in a 6x6 array.\n",
        "ra=np.random.random((4,4))\n",
        "ar=np.pad(ra,pad_width=1 , mode='constant', constant_values=0)\n",
        "print(ar)"
      ],
      "metadata": {
        "colab": {
          "base_uri": "https://localhost:8080/"
        },
        "id": "Rloiuu4NskIP",
        "outputId": "206dfb02-d359-4bbc-a4e7-e9a27b0a3336"
      },
      "execution_count": null,
      "outputs": [
        {
          "output_type": "stream",
          "name": "stdout",
          "text": [
            "[[0.         0.         0.         0.         0.         0.        ]\n",
            " [0.         0.43859102 0.7539097  0.91824347 0.95127353 0.        ]\n",
            " [0.         0.68612244 0.30657717 0.42853717 0.15773642 0.        ]\n",
            " [0.         0.04599813 0.73497648 0.85607543 0.53974308 0.        ]\n",
            " [0.         0.58130375 0.23835766 0.42571344 0.62274394 0.        ]\n",
            " [0.         0.         0.         0.         0.         0.        ]]\n"
          ]
        }
      ]
    },
    {
      "cell_type": "code",
      "source": [
        "#4.  Using NumPy, create an array of integers from 10 to 60 with a step of 5\n",
        "np.arange(10,61,5)"
      ],
      "metadata": {
        "id": "i-o0oO4ItVCd",
        "colab": {
          "base_uri": "https://localhost:8080/"
        },
        "outputId": "39465dd4-1f98-4939-97ed-1fb746717984"
      },
      "execution_count": 2,
      "outputs": [
        {
          "output_type": "execute_result",
          "data": {
            "text/plain": [
              "array([10, 15, 20, 25, 30, 35, 40, 45, 50, 55, 60])"
            ]
          },
          "metadata": {},
          "execution_count": 2
        }
      ]
    },
    {
      "cell_type": "code",
      "source": [
        "#5.  Create a NumPy array of strings ['python', 'numpy', 'pandas']. Apply different case transformations (uppercase, lowercase, title case, etc.) to each element.\n",
        "arr=np.array( ('python', 'numpy', 'pandas'))\n",
        "arr"
      ],
      "metadata": {
        "colab": {
          "base_uri": "https://localhost:8080/"
        },
        "id": "EgpSWchTek4S",
        "outputId": "131c7faa-153e-44a0-8172-25110ff56400"
      },
      "execution_count": 20,
      "outputs": [
        {
          "output_type": "execute_result",
          "data": {
            "text/plain": [
              "array(['python', 'numpy', 'pandas'], dtype='<U6')"
            ]
          },
          "metadata": {},
          "execution_count": 20
        }
      ]
    },
    {
      "cell_type": "code",
      "source": [
        "np.char.upper(arr)"
      ],
      "metadata": {
        "colab": {
          "base_uri": "https://localhost:8080/"
        },
        "id": "MdXMp3age-37",
        "outputId": "5ae74a35-c618-4c46-c4b0-154414664fff"
      },
      "execution_count": 19,
      "outputs": [
        {
          "output_type": "execute_result",
          "data": {
            "text/plain": [
              "array(['PYTHON', 'NUMPY', 'PANDAS'], dtype='<U6')"
            ]
          },
          "metadata": {},
          "execution_count": 19
        }
      ]
    },
    {
      "cell_type": "code",
      "source": [
        "np.char.lower(arr)"
      ],
      "metadata": {
        "colab": {
          "base_uri": "https://localhost:8080/"
        },
        "id": "X0R-WAjsfQy2",
        "outputId": "90279479-71fc-41eb-e867-e8446155248e"
      },
      "execution_count": 21,
      "outputs": [
        {
          "output_type": "execute_result",
          "data": {
            "text/plain": [
              "array(['python', 'numpy', 'pandas'], dtype='<U6')"
            ]
          },
          "metadata": {},
          "execution_count": 21
        }
      ]
    },
    {
      "cell_type": "code",
      "source": [
        "np.char.title(arr)"
      ],
      "metadata": {
        "colab": {
          "base_uri": "https://localhost:8080/"
        },
        "id": "Id5QnmnahXa8",
        "outputId": "b8dd87db-51b9-4ee2-f5f8-a9e02e804235"
      },
      "execution_count": 22,
      "outputs": [
        {
          "output_type": "execute_result",
          "data": {
            "text/plain": [
              "array(['Python', 'Numpy', 'Pandas'], dtype='<U6')"
            ]
          },
          "metadata": {},
          "execution_count": 22
        }
      ]
    },
    {
      "cell_type": "code",
      "source": [
        "#6.Generate a NumPy array of words. Insert a space between each character of every word in the array\n",
        "char=np.fromstring(\"Rahul  Meel\",sep=\" \")\n",
        "char"
      ],
      "metadata": {
        "colab": {
          "base_uri": "https://localhost:8080/"
        },
        "id": "qD9s3aX9hZ9w",
        "outputId": "25b256a3-2eff-461f-9eec-0104660cd112"
      },
      "execution_count": 33,
      "outputs": [
        {
          "output_type": "stream",
          "name": "stderr",
          "text": [
            "<ipython-input-33-ded67983298f>:2: DeprecationWarning: string or file could not be read to its end due to unmatched data; this will raise a ValueError in the future.\n",
            "  char=np.fromstring(\"Rahul  Meel\",sep=\" \")\n"
          ]
        },
        {
          "output_type": "execute_result",
          "data": {
            "text/plain": [
              "array([], dtype=float64)"
            ]
          },
          "metadata": {},
          "execution_count": 33
        }
      ]
    },
    {
      "cell_type": "code",
      "source": [
        "ch=np.array('Rahul Meel')\n",
        "np.char.join(\" \", ch)"
      ],
      "metadata": {
        "colab": {
          "base_uri": "https://localhost:8080/"
        },
        "id": "sg__eDpnhxZz",
        "outputId": "8f8e7a30-1c71-49b4-d74b-fe8ce9e193ff"
      },
      "execution_count": 38,
      "outputs": [
        {
          "output_type": "execute_result",
          "data": {
            "text/plain": [
              "array('R a h u l   M e e l', dtype='<U19')"
            ]
          },
          "metadata": {},
          "execution_count": 38
        }
      ]
    },
    {
      "cell_type": "code",
      "source": [
        "#7.  Create two 2D NumPy arrays and perform element-wise addition, subtraction, multiplication, and division\n",
        "arr1=np.array([[1,2,3],[4,5,6]])\n",
        "arr2=np.array([[5,8,3],[4,7,6]])\n"
      ],
      "metadata": {
        "id": "J11Ugeeri4za"
      },
      "execution_count": 45,
      "outputs": []
    },
    {
      "cell_type": "code",
      "source": [
        "arr1+arr2"
      ],
      "metadata": {
        "colab": {
          "base_uri": "https://localhost:8080/"
        },
        "id": "tUZi11AHpfE5",
        "outputId": "dd6111b2-2b00-43f1-c938-04973c9b512a"
      },
      "execution_count": 47,
      "outputs": [
        {
          "output_type": "execute_result",
          "data": {
            "text/plain": [
              "array([[ 6, 10,  6],\n",
              "       [ 8, 12, 12]])"
            ]
          },
          "metadata": {},
          "execution_count": 47
        }
      ]
    },
    {
      "cell_type": "code",
      "source": [
        "arr1-arr2"
      ],
      "metadata": {
        "colab": {
          "base_uri": "https://localhost:8080/"
        },
        "id": "aMBBj9tEp443",
        "outputId": "c66d47cb-f40e-4895-e760-1a1b90714300"
      },
      "execution_count": 48,
      "outputs": [
        {
          "output_type": "execute_result",
          "data": {
            "text/plain": [
              "array([[-4, -6,  0],\n",
              "       [ 0, -2,  0]])"
            ]
          },
          "metadata": {},
          "execution_count": 48
        }
      ]
    },
    {
      "cell_type": "code",
      "source": [
        "arr1*arr2"
      ],
      "metadata": {
        "colab": {
          "base_uri": "https://localhost:8080/"
        },
        "id": "EQ55b0TNp9Ma",
        "outputId": "f3112bfa-5a2b-4fa9-afbb-d8a3fbe1bc34"
      },
      "execution_count": 49,
      "outputs": [
        {
          "output_type": "execute_result",
          "data": {
            "text/plain": [
              "array([[ 5, 16,  9],\n",
              "       [16, 35, 36]])"
            ]
          },
          "metadata": {},
          "execution_count": 49
        }
      ]
    },
    {
      "cell_type": "code",
      "source": [
        "arr1/arr2"
      ],
      "metadata": {
        "colab": {
          "base_uri": "https://localhost:8080/"
        },
        "id": "X33F0Wtsp--f",
        "outputId": "2245f71a-eb7a-41e6-de11-ad6ca997ae24"
      },
      "execution_count": 50,
      "outputs": [
        {
          "output_type": "execute_result",
          "data": {
            "text/plain": [
              "array([[0.2       , 0.25      , 1.        ],\n",
              "       [1.        , 0.71428571, 1.        ]])"
            ]
          },
          "metadata": {},
          "execution_count": 50
        }
      ]
    },
    {
      "cell_type": "code",
      "source": [
        " #8. Use NumPy to create a 5x5 identity matrix, then extract its diagonal elements."
      ],
      "metadata": {
        "id": "uS-29toKqxu-"
      },
      "execution_count": 54,
      "outputs": []
    },
    {
      "cell_type": "code",
      "source": [
        "n=np.eye(5,5)\n",
        "n"
      ],
      "metadata": {
        "colab": {
          "base_uri": "https://localhost:8080/"
        },
        "id": "uY4c0gwjrGof",
        "outputId": "8da58267-baf0-41ac-94c7-4b430deaa6e8"
      },
      "execution_count": 56,
      "outputs": [
        {
          "output_type": "execute_result",
          "data": {
            "text/plain": [
              "array([[1., 0., 0., 0., 0.],\n",
              "       [0., 1., 0., 0., 0.],\n",
              "       [0., 0., 1., 0., 0.],\n",
              "       [0., 0., 0., 1., 0.],\n",
              "       [0., 0., 0., 0., 1.]])"
            ]
          },
          "metadata": {},
          "execution_count": 56
        }
      ]
    },
    {
      "cell_type": "code",
      "source": [
        "np.diagonal(n)"
      ],
      "metadata": {
        "colab": {
          "base_uri": "https://localhost:8080/"
        },
        "id": "32ZkcaEOrBLB",
        "outputId": "6d65bba3-a4b1-4311-a96a-11e9b84d2288"
      },
      "execution_count": 53,
      "outputs": [
        {
          "output_type": "execute_result",
          "data": {
            "text/plain": [
              "array([1., 1., 1., 1., 1.])"
            ]
          },
          "metadata": {},
          "execution_count": 53
        }
      ]
    },
    {
      "cell_type": "code",
      "source": [
        "#9.  Generate a NumPy array of 100 random integers between 0 and 1000. Find and display all prime numbers in this array.\n",
        "import random\n",
        "r=np.random.randint(0,1000,size=100)\n",
        "def is_prime(r):\n",
        "  if n<=1:\n",
        "    return False\n",
        "  for i in r:\n",
        "    if r/i==0:\n",
        "      return False\n",
        "\n",
        "  return True\n",
        "\n",
        "  prime_numbers=[num for num in r if is_prime(num)]\n",
        "\n",
        "r,prime_numbers"
      ],
      "metadata": {
        "colab": {
          "base_uri": "https://localhost:8080/"
        },
        "id": "gRPVGCSqrXzN",
        "outputId": "f5290d68-2512-41e1-c746-1d07eb9fb726"
      },
      "execution_count": 80,
      "outputs": [
        {
          "output_type": "execute_result",
          "data": {
            "text/plain": [
              "(array([489, 946, 359, 151,  79, 946, 365,  84, 772, 621, 815, 320, 648,\n",
              "         81, 861, 719, 664, 581, 182, 709, 973, 420, 338, 860, 702, 221,\n",
              "        236,  11,  32, 505, 204, 239, 344, 438, 400, 851, 545, 550, 344,\n",
              "        206, 411, 636, 811, 363, 667, 303, 816, 955, 907, 489, 580, 710,\n",
              "        187, 826, 207, 994, 256, 742, 247, 663, 157, 799, 562, 272, 851,\n",
              "        656, 506, 547, 754, 825,  33, 337, 134, 491, 876, 296, 102, 817,\n",
              "        871,  99, 895, 675, 169,   1, 306, 944, 719, 681, 850, 421, 178,\n",
              "        663, 179, 906,  36, 612, 983, 714, 656, 370]),\n",
              " [431,\n",
              "  359,\n",
              "  3,\n",
              "  139,\n",
              "  421,\n",
              "  379,\n",
              "  547,\n",
              "  251,\n",
              "  643,\n",
              "  263,\n",
              "  929,\n",
              "  127,\n",
              "  389,\n",
              "  179,\n",
              "  599,\n",
              "  269,\n",
              "  17,\n",
              "  257,\n",
              "  163,\n",
              "  17])"
            ]
          },
          "metadata": {},
          "execution_count": 80
        }
      ]
    },
    {
      "cell_type": "code",
      "source": [
        "#10.  Create a NumPy array representing daily temperatures for a month. Calculate and display the weekly averages."
      ],
      "metadata": {
        "id": "6y3B1I2sw8tF"
      },
      "execution_count": 80,
      "outputs": []
    },
    {
      "cell_type": "code",
      "source": [
        "daily=np.random.randint(15,31 ,size=30)\n",
        "week= np.random.randint(15,31,size=(4,7))\n",
        "\n",
        "\n",
        "\n",
        "av=week.mean(axis=0)"
      ],
      "metadata": {
        "id": "tTgJ2EKDxAdU"
      },
      "execution_count": 118,
      "outputs": []
    },
    {
      "cell_type": "code",
      "source": [
        "daily\n"
      ],
      "metadata": {
        "colab": {
          "base_uri": "https://localhost:8080/"
        },
        "id": "DGXLc050tRYJ",
        "outputId": "cbf7950f-0b30-4b2e-87ff-f9a9a8918f17"
      },
      "execution_count": 110,
      "outputs": [
        {
          "output_type": "execute_result",
          "data": {
            "text/plain": [
              "array([28, 24, 30, 19, 20, 20, 15, 30, 28, 20, 29, 16, 17, 15, 20, 23, 27,\n",
              "       19, 28, 21, 15, 26, 29, 15, 30, 28, 15, 19, 22, 16])"
            ]
          },
          "metadata": {},
          "execution_count": 110
        }
      ]
    },
    {
      "cell_type": "code",
      "source": [
        "week"
      ],
      "metadata": {
        "colab": {
          "base_uri": "https://localhost:8080/"
        },
        "id": "_y3z_o0ew-Zz",
        "outputId": "d342d631-7934-4b1c-c66a-8a81d750fc57"
      },
      "execution_count": 111,
      "outputs": [
        {
          "output_type": "execute_result",
          "data": {
            "text/plain": [
              "array([[25, 21, 21, 25, 24, 20, 24],\n",
              "       [29, 23, 24, 19, 20, 24, 15],\n",
              "       [30, 19, 22, 29, 28, 21, 17],\n",
              "       [23, 23, 21, 18, 19, 26, 16]])"
            ]
          },
          "metadata": {},
          "execution_count": 111
        }
      ]
    },
    {
      "cell_type": "code",
      "source": [
        "av\n"
      ],
      "metadata": {
        "colab": {
          "base_uri": "https://localhost:8080/"
        },
        "id": "0tYu9_Xz1Cvu",
        "outputId": "131530cc-3c39-4f22-8da3-a40ddba0cf4e"
      },
      "execution_count": 119,
      "outputs": [
        {
          "output_type": "execute_result",
          "data": {
            "text/plain": [
              "array([23.  , 24.25, 23.  , 20.75, 22.25, 23.5 , 22.75])"
            ]
          },
          "metadata": {},
          "execution_count": 119
        }
      ]
    },
    {
      "cell_type": "code",
      "source": [],
      "metadata": {
        "id": "Of6kfyLr3z5L"
      },
      "execution_count": null,
      "outputs": []
    }
  ]
}